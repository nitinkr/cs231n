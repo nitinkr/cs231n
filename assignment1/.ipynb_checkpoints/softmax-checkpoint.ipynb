{
 "cells": [
  {
   "cell_type": "markdown",
   "metadata": {},
   "source": [
    "# Softmax exercise\n",
    "\n",
    "*Complete and hand in this completed worksheet (including its outputs and any supporting code outside of the worksheet) with your assignment submission. For more details see the [assignments page](http://vision.stanford.edu/teaching/cs231n/assignments.html) on the course website.*\n",
    "\n",
    "This exercise is analogous to the SVM exercise. You will:\n",
    "\n",
    "- implement a fully-vectorized **loss function** for the Softmax classifier\n",
    "- implement the fully-vectorized expression for its **analytic gradient**\n",
    "- **check your implementation** with numerical gradient\n",
    "- use a validation set to **tune the learning rate and regularization** strength\n",
    "- **optimize** the loss function with **SGD**\n",
    "- **visualize** the final learned weights\n"
   ]
  },
  {
   "cell_type": "code",
   "execution_count": 1,
   "metadata": {
    "collapsed": false
   },
   "outputs": [],
   "source": [
    "import random\n",
    "import numpy as np\n",
    "from cs231n.data_utils import load_CIFAR10\n",
    "import matplotlib.pyplot as plt\n",
    "%matplotlib inline\n",
    "plt.rcParams['figure.figsize'] = (10.0, 8.0) # set default size of plots\n",
    "plt.rcParams['image.interpolation'] = 'nearest'\n",
    "plt.rcParams['image.cmap'] = 'gray'\n",
    "\n",
    "# for auto-reloading extenrnal modules\n",
    "# see http://stackoverflow.com/questions/1907993/autoreload-of-modules-in-ipython\n",
    "%load_ext autoreload\n",
    "%autoreload 2"
   ]
  },
  {
   "cell_type": "code",
   "execution_count": 2,
   "metadata": {
    "collapsed": false
   },
   "outputs": [
    {
     "name": "stdout",
     "output_type": "stream",
     "text": [
      "Train data shape:  (49000, 3073)\n",
      "Train labels shape:  (49000,)\n",
      "Validation data shape:  (1000, 3073)\n",
      "Validation labels shape:  (1000,)\n",
      "Test data shape:  (1000, 3073)\n",
      "Test labels shape:  (1000,)\n",
      "dev data shape:  (500, 3073)\n",
      "dev labels shape:  (500,)\n"
     ]
    }
   ],
   "source": [
    "def get_CIFAR10_data(num_training=49000, num_validation=1000, num_test=1000, num_dev=500):\n",
    "  \"\"\"\n",
    "  Load the CIFAR-10 dataset from disk and perform preprocessing to prepare\n",
    "  it for the linear classifier. These are the same steps as we used for the\n",
    "  SVM, but condensed to a single function.  \n",
    "  \"\"\"\n",
    "  # Load the raw CIFAR-10 data\n",
    "  cifar10_dir = 'cs231n/datasets/cifar-10-batches-py'\n",
    "  X_train, y_train, X_test, y_test = load_CIFAR10(cifar10_dir)\n",
    "  \n",
    "  # subsample the data\n",
    "  mask = range(num_training, num_training + num_validation)\n",
    "  X_val = X_train[mask]\n",
    "  y_val = y_train[mask]\n",
    "  mask = range(num_training)\n",
    "  X_train = X_train[mask]\n",
    "  y_train = y_train[mask]\n",
    "  mask = range(num_test)\n",
    "  X_test = X_test[mask]\n",
    "  y_test = y_test[mask]\n",
    "  mask = np.random.choice(num_training, num_dev, replace=False)\n",
    "  X_dev = X_train[mask]\n",
    "  y_dev = y_train[mask]\n",
    "  \n",
    "  # Preprocessing: reshape the image data into rows\n",
    "  X_train = np.reshape(X_train, (X_train.shape[0], -1))\n",
    "  X_val = np.reshape(X_val, (X_val.shape[0], -1))\n",
    "  X_test = np.reshape(X_test, (X_test.shape[0], -1))\n",
    "  X_dev = np.reshape(X_dev, (X_dev.shape[0], -1))\n",
    "  \n",
    "  # Normalize the data: subtract the mean image\n",
    "  mean_image = np.mean(X_train, axis = 0)\n",
    "  X_train -= mean_image\n",
    "  X_val -= mean_image\n",
    "  X_test -= mean_image\n",
    "  X_dev -= mean_image\n",
    "  \n",
    "  # add bias dimension and transform into columns\n",
    "  X_train = np.hstack([X_train, np.ones((X_train.shape[0], 1))])\n",
    "  X_val = np.hstack([X_val, np.ones((X_val.shape[0], 1))])\n",
    "  X_test = np.hstack([X_test, np.ones((X_test.shape[0], 1))])\n",
    "  X_dev = np.hstack([X_dev, np.ones((X_dev.shape[0], 1))])\n",
    "  \n",
    "  return X_train, y_train, X_val, y_val, X_test, y_test, X_dev, y_dev\n",
    "\n",
    "\n",
    "# Invoke the above function to get our data.\n",
    "X_train, y_train, X_val, y_val, X_test, y_test, X_dev, y_dev = get_CIFAR10_data()\n",
    "print 'Train data shape: ', X_train.shape\n",
    "print 'Train labels shape: ', y_train.shape\n",
    "print 'Validation data shape: ', X_val.shape\n",
    "print 'Validation labels shape: ', y_val.shape\n",
    "print 'Test data shape: ', X_test.shape\n",
    "print 'Test labels shape: ', y_test.shape\n",
    "print 'dev data shape: ', X_dev.shape\n",
    "print 'dev labels shape: ', y_dev.shape"
   ]
  },
  {
   "cell_type": "markdown",
   "metadata": {},
   "source": [
    "## Softmax Classifier\n",
    "\n",
    "Your code for this section will all be written inside **cs231n/classifiers/softmax.py**. \n"
   ]
  },
  {
   "cell_type": "code",
   "execution_count": 3,
   "metadata": {
    "collapsed": false
   },
   "outputs": [
    {
     "name": "stdout",
     "output_type": "stream",
     "text": [
      "loss: 2.329791\n",
      "sanity check: 2.302585\n"
     ]
    }
   ],
   "source": [
    "# First implement the naive softmax loss function with nested loops.\n",
    "# Open the file cs231n/classifiers/softmax.py and implement the\n",
    "# softmax_loss_naive function.\n",
    "\n",
    "from cs231n.classifiers.softmax import softmax_loss_naive\n",
    "import time\n",
    "\n",
    "# Generate a random softmax weight matrix and use it to compute the loss.\n",
    "W = np.random.randn(3073, 10) * 0.0001\n",
    "loss, grad = softmax_loss_naive(W, X_dev, y_dev, 0.0)\n",
    "\n",
    "# As a rough sanity check, our loss should be something close to -log(0.1).\n",
    "print 'loss: %f' % loss\n",
    "print 'sanity check: %f' % (-np.log(0.1))"
   ]
  },
  {
   "cell_type": "markdown",
   "metadata": {},
   "source": [
    "## Inline Question 1:\n",
    "Why do we expect our loss to be close to -log(0.1)? Explain briefly.**\n",
    "\n",
    "**Your answer:** *W is very small which will result in scores being very low*\n"
   ]
  },
  {
   "cell_type": "code",
   "execution_count": 4,
   "metadata": {
    "collapsed": false
   },
   "outputs": [
    {
     "name": "stdout",
     "output_type": "stream",
     "text": [
      "numerical: 1.845483 analytic: 1.845483, relative error: 5.658631e-08\n",
      "numerical: 3.009640 analytic: 3.009640, relative error: 6.668760e-09\n",
      "numerical: -0.197992 analytic: -0.197992, relative error: 1.923959e-07\n",
      "numerical: -1.320763 analytic: -1.320763, relative error: 2.325649e-08\n",
      "numerical: 0.977171 analytic: 0.977171, relative error: 7.410594e-08\n",
      "numerical: -0.640170 analytic: -0.640170, relative error: 6.013610e-08\n",
      "numerical: 0.322750 analytic: 0.322750, relative error: 3.372990e-08\n",
      "numerical: -0.029011 analytic: -0.029011, relative error: 5.533710e-07\n",
      "numerical: 3.236951 analytic: 3.236951, relative error: 6.477095e-09\n",
      "numerical: -1.327471 analytic: -1.327471, relative error: 8.216060e-09\n",
      "numerical: -1.872069 analytic: -1.872069, relative error: 7.848994e-09\n",
      "numerical: 1.023911 analytic: 1.023911, relative error: 6.147792e-08\n",
      "numerical: -3.727116 analytic: -3.727116, relative error: 7.194527e-09\n",
      "numerical: -3.500109 analytic: -3.500109, relative error: 7.699278e-10\n",
      "numerical: -2.427229 analytic: -2.427229, relative error: 2.844187e-09\n",
      "numerical: 1.075662 analytic: 1.075662, relative error: 9.845670e-09\n",
      "numerical: 0.020591 analytic: 0.020591, relative error: 1.597935e-06\n",
      "numerical: -0.193683 analytic: -0.193683, relative error: 2.097879e-07\n",
      "numerical: 2.220639 analytic: 2.220639, relative error: 1.414734e-08\n",
      "numerical: -0.533406 analytic: -0.533406, relative error: 3.013579e-08\n"
     ]
    }
   ],
   "source": [
    "# Complete the implementation of softmax_loss_naive and implement a (naive)\n",
    "# version of the gradient that uses nested loops.\n",
    "loss, grad = softmax_loss_naive(W, X_dev, y_dev, 0.0)\n",
    "\n",
    "# As we did for the SVM, use numeric gradient checking as a debugging tool.\n",
    "# The numeric gradient should be close to the analytic gradient.\n",
    "from cs231n.gradient_check import grad_check_sparse\n",
    "f = lambda w: softmax_loss_naive(w, X_dev, y_dev, 0.0)[0]\n",
    "grad_numerical = grad_check_sparse(f, W, grad, 10)\n",
    "\n",
    "# similar to SVM case, do another gradient check with regularization\n",
    "loss, grad = softmax_loss_naive(W, X_dev, y_dev, 1e2)\n",
    "f = lambda w: softmax_loss_naive(w, X_dev, y_dev, 1e2)[0]\n",
    "grad_numerical = grad_check_sparse(f, W, grad, 10)"
   ]
  },
  {
   "cell_type": "code",
   "execution_count": 5,
   "metadata": {
    "collapsed": false
   },
   "outputs": [
    {
     "name": "stdout",
     "output_type": "stream",
     "text": [
      "naive loss: 2.329791e+00 computed in 4.082808s\n",
      "vectorized loss: 2.329791e+00 computed in 0.005195s\n",
      "Loss difference: 0.000000\n",
      "Gradient difference: 0.000000\n"
     ]
    }
   ],
   "source": [
    "# Now that we have a naive implementation of the softmax loss function and its gradient,\n",
    "# implement a vectorized version in softmax_loss_vectorized.\n",
    "# The two versions should compute the same results, but the vectorized version should be\n",
    "# much faster.\n",
    "tic = time.time()\n",
    "loss_naive, grad_naive = softmax_loss_naive(W, X_dev, y_dev, 0.00001)\n",
    "toc = time.time()\n",
    "print 'naive loss: %e computed in %fs' % (loss_naive, toc - tic)\n",
    "\n",
    "from cs231n.classifiers.softmax import softmax_loss_vectorized\n",
    "tic = time.time()\n",
    "loss_vectorized, grad_vectorized = softmax_loss_vectorized(W, X_dev, y_dev, 0.00001)\n",
    "toc = time.time()\n",
    "print 'vectorized loss: %e computed in %fs' % (loss_vectorized, toc - tic)\n",
    "\n",
    "# As we did for the SVM, we use the Frobenius norm to compare the two versions\n",
    "# of the gradient.\n",
    "grad_difference = np.linalg.norm(grad_naive - grad_vectorized, ord='fro')\n",
    "print 'Loss difference: %f' % np.abs(loss_naive - loss_vectorized)\n",
    "print 'Gradient difference: %f' % grad_difference"
   ]
  },
  {
   "cell_type": "code",
   "execution_count": 46,
   "metadata": {
    "collapsed": false,
    "scrolled": true
   },
   "outputs": [
    {
     "name": "stdout",
     "output_type": "stream",
     "text": [
      "1e-07 1 0.330408163265 0.325\n",
      "1e-07 100 0.340591836735 0.324\n",
      "1e-07 1000 0.386102040816 0.391\n",
      "1e-07 50000.0 0.326081632653 0.349\n",
      "1e-07 100000 0.311653061224 0.328\n",
      "1e-07 200000 0.289673469388 0.3\n",
      "1e-06 1 0.425448979592 0.389\n",
      "1e-06 100 0.438979591837 0.412\n",
      "1e-06 1000 0.417163265306 0.411\n",
      "1e-06 50000.0 0.31606122449 0.328\n",
      "1e-06 100000 0.292693877551 0.309\n",
      "1e-06 200000 0.275306122449 0.297\n",
      "1e-05 1 0.387734693878 0.346\n",
      "1e-05 100 0.362489795918 0.343\n",
      "1e-05 1000 0.246653061224 0.215\n",
      "1e-05 50000.0 0.109142857143 0.114\n",
      "1e-05 100000 0.086387755102 0.101\n",
      "1e-05 200000 0.0769795918367 0.067\n",
      "lr 1.000000e-07 reg 1.000000e+00 train accuracy: 0.330408 val accuracy: 0.325000\n",
      "lr 1.000000e-07 reg 1.000000e+02 train accuracy: 0.340592 val accuracy: 0.324000\n",
      "lr 1.000000e-07 reg 1.000000e+03 train accuracy: 0.386102 val accuracy: 0.391000\n",
      "lr 1.000000e-07 reg 5.000000e+04 train accuracy: 0.326082 val accuracy: 0.349000\n",
      "lr 1.000000e-07 reg 1.000000e+05 train accuracy: 0.311653 val accuracy: 0.328000\n",
      "lr 1.000000e-07 reg 2.000000e+05 train accuracy: 0.289673 val accuracy: 0.300000\n",
      "lr 1.000000e-06 reg 1.000000e+00 train accuracy: 0.425449 val accuracy: 0.389000\n",
      "lr 1.000000e-06 reg 1.000000e+02 train accuracy: 0.438980 val accuracy: 0.412000\n",
      "lr 1.000000e-06 reg 1.000000e+03 train accuracy: 0.417163 val accuracy: 0.411000\n",
      "lr 1.000000e-06 reg 5.000000e+04 train accuracy: 0.316061 val accuracy: 0.328000\n",
      "lr 1.000000e-06 reg 1.000000e+05 train accuracy: 0.292694 val accuracy: 0.309000\n",
      "lr 1.000000e-06 reg 2.000000e+05 train accuracy: 0.275306 val accuracy: 0.297000\n",
      "lr 1.000000e-05 reg 1.000000e+00 train accuracy: 0.387735 val accuracy: 0.346000\n",
      "lr 1.000000e-05 reg 1.000000e+02 train accuracy: 0.362490 val accuracy: 0.343000\n",
      "lr 1.000000e-05 reg 1.000000e+03 train accuracy: 0.246653 val accuracy: 0.215000\n",
      "lr 1.000000e-05 reg 5.000000e+04 train accuracy: 0.109143 val accuracy: 0.114000\n",
      "lr 1.000000e-05 reg 1.000000e+05 train accuracy: 0.086388 val accuracy: 0.101000\n",
      "lr 1.000000e-05 reg 2.000000e+05 train accuracy: 0.076980 val accuracy: 0.067000\n",
      "best validation accuracy achieved during cross-validation: 0.412000\n"
     ]
    },
    {
     "name": "stderr",
     "output_type": "stream",
     "text": [
      "cs231n/classifiers/softmax.py:93: RuntimeWarning: divide by zero encountered in log\n",
      "  loss = -1 *  np.sum(np.log(np.sum(probablities * y_onehot, axis=1))) / X.shape[0]\n"
     ]
    }
   ],
   "source": [
    "# Use the validation set to tune hyperparameters (regularization strength and\n",
    "# learning rate). You should experiment with different ranges for the learning\n",
    "# rates and regularization strengths; if you are careful you should be able to\n",
    "# get a classification accuracy of over 0.35 on the validation set.\n",
    "from cs231n.classifiers import Softmax\n",
    "results = {}\n",
    "best_val = -1\n",
    "best_softmax = None\n",
    "learning_rates = [1e-7, 1e-6, 1e-5, 1]\n",
    "regularization_strengths = [1, 100, 1000, 100000.0/2, 100000]#, 300000, 400000, 1000000] #, 1000, 5e4, 1e5, 5e5, 1e6]#, 5e7, 1e8]\n",
    "#regularization_strengths = [100000, 200000, 300000, 400000, 1000000]#, 5e7, 1e8]\n",
    "\n",
    "\n",
    "################################################################################\n",
    "# TODO:                                                                        #\n",
    "# Use the validation set to set the learning rate and regularization strength. #\n",
    "# This should be identical to the validation that you did for the SVM; save    #\n",
    "# the best trained softmax classifer in best_softmax.                          #\n",
    "################################################################################\n",
    "for lr in learning_rates:\n",
    "    for reg in regularization_strengths:\n",
    "        softmax = Softmax()\n",
    "        softmax.train(X_train, y_train, learning_rate=lr, reg=reg, batch_size=250,\n",
    "                          num_iters=3000, verbose=False)\n",
    "        y_train_pred = softmax.predict(X_train)\n",
    "        #print softmax.W[0,:10]\n",
    "        y_val_pred = softmax.predict(X_val)\n",
    "        #print (y_val == y_val_pred).shape, (y_train == y_train_pred).shape\n",
    "        print lr, reg,  np.mean(y_train == y_train_pred), (np.mean(y_val == y_val_pred))\n",
    "        val_accuracy = np.mean(y_val == y_val_pred)\n",
    "        results[(lr, reg)] = (np.mean(y_train == y_train_pred),np.mean(y_val == y_val_pred))\n",
    "        #print y_val_pred[:10], y_val[:10], (y_val_pred == y_val)[:10]\n",
    "        #print np.sum(y_val_pred == y_val), np.sum(y_train == y_train_pred)\n",
    "        if val_accuracy > best_val:\n",
    "            best_softmax = softmax\n",
    "            best_val = val_accuracy\n",
    "################################################################################\n",
    "#                              END OF YOUR CODE                                #\n",
    "################################################################################\n",
    "    \n",
    "# Print out results.\n",
    "for lr, reg in sorted(results):\n",
    "    train_accuracy, val_accuracy = results[(lr, reg)]\n",
    "    print 'lr %e reg %e train accuracy: %f val accuracy: %f' % (\n",
    "                lr, reg, train_accuracy, val_accuracy)\n",
    "    \n",
    "print 'best validation accuracy achieved during cross-validation: %f' % best_val\n"
   ]
  },
  {
   "cell_type": "code",
   "execution_count": 47,
   "metadata": {
    "collapsed": false
   },
   "outputs": [
    {
     "name": "stdout",
     "output_type": "stream",
     "text": [
      "410\n",
      "(1000,)\n",
      "softmax on raw pixels final test set accuracy: 0.410000\n"
     ]
    }
   ],
   "source": [
    "# evaluate on test set\n",
    "# Evaluate the best softmax on test set\n",
    "y_test_pred = best_softmax.predict(X_test)\n",
    "print np.sum(y_test == y_test_pred)\n",
    "print (y_test == y_test_pred).shape\n",
    "test_accuracy = np.mean(y_test == y_test_pred)\n",
    "print 'softmax on raw pixels final test set accuracy: %f' % (test_accuracy, )"
   ]
  },
  {
   "cell_type": "code",
   "execution_count": 48,
   "metadata": {
    "collapsed": false
   },
   "outputs": [
    {
     "data": {
      "image/png": "[encoded data removed]",
      "text/plain": [
       "<matplotlib.figure.Figure at 0x7f12601b4d50>"
      ]
     },
     "metadata": {},
     "output_type": "display_data"
    }
   ],
   "source": [
    "# Visualize the learned weights for each class\n",
    "w = best_softmax.W[:-1,:] # strip out the bias\n",
    "w = w.reshape(32, 32, 3, 10)\n",
    "\n",
    "w_min, w_max = np.min(w), np.max(w)\n",
    "\n",
    "classes = ['plane', 'car', 'bird', 'cat', 'deer', 'dog', 'frog', 'horse', 'ship', 'truck']\n",
    "for i in xrange(10):\n",
    "  plt.subplot(2, 5, i + 1)\n",
    "  \n",
    "  # Rescale the weights to be between 0 and 255\n",
    "  wimg = 255.0 * (w[:, :, :, i].squeeze() - w_min) / (w_max - w_min)\n",
    "  plt.imshow(wimg.astype('uint8'))\n",
    "  plt.axis('off')\n",
    "  plt.title(classes[i])"
   ]
  },
  {
   "cell_type": "code",
   "execution_count": null,
   "metadata": {
    "collapsed": true
   },
   "outputs": [],
   "source": []
  }
 ],
 "metadata": {
  "kernelspec": {
   "display_name": "Python 2",
   "language": "python",
   "name": "python2"
  },
  "language_info": {
   "codemirror_mode": {
    "name": "ipython",
    "version": 2
   },
   "file_extension": ".py",
   "mimetype": "text/x-python",
   "name": "python",
   "nbconvert_exporter": "python",
   "pygments_lexer": "ipython2",
   "version": "2.7.6"
  }
 },
 "nbformat": 4,
 "nbformat_minor": 0
}
